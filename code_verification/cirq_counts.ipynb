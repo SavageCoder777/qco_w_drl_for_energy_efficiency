{
 "cells": [
  {
   "cell_type": "code",
   "execution_count": 59,
   "id": "832863d0",
   "metadata": {},
   "outputs": [
    {
     "name": "stdout",
     "output_type": "stream",
     "text": [
      "0: ───H───@───\n",
      "          │\n",
      "1: ───────X───\n",
      "Final counts: {'11': 10086, '00': 9914}\n"
     ]
    }
   ],
   "source": [
    "import cirq\n",
    "\n",
    "def cirq_counts(circuit: cirq.Circuit, shots=1024):\n",
    "    qubits = list(circuit.all_qubits())\n",
    "    circuit = circuit.copy()\n",
    "    circuit.append(cirq.measure(*qubits, key='m'))\n",
    "\n",
    "    simulator = cirq.Simulator()\n",
    "    result = simulator.run(circuit, repetitions=shots)\n",
    "    hist = result.histogram(key='m')\n",
    "\n",
    "    counts = {format(k, f'0{len(qubits)}b'): v for k, v in hist.items()}\n",
    "    return counts\n",
    "\n",
    "\n",
    "qubits = cirq.LineQubit.range(2)\n",
    "circuit = cirq.Circuit(\n",
    "    cirq.H(qubits[0]),\n",
    "    cirq.CNOT(qubits[0], qubits[1]),\n",
    ")\n",
    "\n",
    "counts = cirq_counts(circuit, shots=20000)\n",
    "print(circuit)\n",
    "print(\"Final counts:\", counts)\n"
   ]
  }
 ],
 "metadata": {
  "kernelspec": {
   "display_name": "Python 3",
   "language": "python",
   "name": "python3"
  },
  "language_info": {
   "codemirror_mode": {
    "name": "ipython",
    "version": 3
   },
   "file_extension": ".py",
   "mimetype": "text/x-python",
   "name": "python",
   "nbconvert_exporter": "python",
   "pygments_lexer": "ipython3",
   "version": "3.13.5"
  }
 },
 "nbformat": 4,
 "nbformat_minor": 5
}
